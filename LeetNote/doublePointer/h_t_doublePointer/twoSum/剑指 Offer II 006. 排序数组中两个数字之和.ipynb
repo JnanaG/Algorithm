{
 "cells": [
  {
   "cell_type": "markdown",
   "metadata": {},
   "source": [
    "### 剑指 Offer II 006. 排序数组中两个数字之和\n",
    "给定一个已按照 升序排列  的整数数组 numbers ，请你从数组中找出两个数满足相加之和等于目标数 target 。\n",
    "\n",
    "函数应该以长度为 2 的整数数组的形式返回这两个数的下标值。numbers 的下标 从 0 开始计数 ，所以答案数组应当满足 0 <= answer[0] < answer[1] < numbers.length 。\n",
    "\n",
    "假设数组中存在且只存在一对符合条件的数字，同时一个数字不能使用两次。"
   ]
  },
  {
   "cell_type": "markdown",
   "metadata": {},
   "source": [
    "#### 示例：\n",
    "- 输入：numbers = [1,2,4,6,10], target = 8\n",
    "- 输出：[1,3]\n",
    "- 解释：2 与 6 之和等于目标数 8 。因此 index1 = 1, index2 = 3 。"
   ]
  },
  {
   "cell_type": "markdown",
   "metadata": {},
   "source": [
    "### 解答：\n",
    "- 首尾双指针： 升序排列的数组，寻找两数之和，即可从数组两端开始寻找，大于时尾指针--，小于时首指针++"
   ]
  }
 ],
 "metadata": {
  "kernelspec": {
   "display_name": "Python 3.9.7 ('base')",
   "language": "python",
   "name": "python3"
  },
  "language_info": {
   "name": "python",
   "version": "3.9.7"
  },
  "orig_nbformat": 4,
  "vscode": {
   "interpreter": {
    "hash": "f898b4da858d0532c6394215441fcca4318a55ee64e9f2fe54a635d60ce53085"
   }
  }
 },
 "nbformat": 4,
 "nbformat_minor": 2
}
