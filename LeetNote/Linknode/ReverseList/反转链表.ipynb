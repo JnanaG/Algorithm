{
 "cells": [
  {
   "cell_type": "markdown",
   "metadata": {},
   "source": [
    "### 反转链表\n",
    "给你单链表的头节点 head ，请你反转链表，并返回反转后的链表。"
   ]
  },
  {
   "cell_type": "markdown",
   "metadata": {},
   "source": [
    "+ 迭代法：\n",
    "使用两个指针pre和curr，分别指代前节点和当前节点。每次循环时，将当前节点的next指向前节点，并且将前结点和当前节点都后退一位。"
   ]
  }
 ],
 "metadata": {
  "kernelspec": {
   "display_name": "Python 3.9.7 ('base')",
   "language": "python",
   "name": "python3"
  },
  "language_info": {
   "name": "python",
   "version": "3.9.7"
  },
  "orig_nbformat": 4,
  "vscode": {
   "interpreter": {
    "hash": "f898b4da858d0532c6394215441fcca4318a55ee64e9f2fe54a635d60ce53085"
   }
  }
 },
 "nbformat": 4,
 "nbformat_minor": 2
}
