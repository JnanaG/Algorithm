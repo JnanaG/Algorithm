{
 "cells": [
  {
   "cell_type": "markdown",
   "metadata": {},
   "source": [
    "## 两数之和\n",
    "给定一个整数数组 nums 和一个整数目标值 target，请你在该数组中找出 和为目标值 target  的那 两个 整数，并返回它们的数组下标。\n",
    "\n",
    "你可以假设每种输入只会对应一个答案。但是，数组中同一个元素在答案里不能重复出现。\n",
    "\n",
    "你可以按任意顺序返回答案\n"
   ]
  },
  {
   "cell_type": "markdown",
   "metadata": {},
   "source": [
    "### 示例1：\n",
    "+ 输入：nums = [2,7,11,15], target = 9\n",
    "+ 输出：[0,1]\n",
    "+ 解释：因为 nums[0] + nums[1] == 9 ，返回 [0, 1] 。"
   ]
  },
  {
   "cell_type": "markdown",
   "metadata": {},
   "source": [
    "### 解答："
   ]
  },
  {
   "cell_type": "markdown",
   "metadata": {},
   "source": [
    "+ 暴力枚举法：\n",
    "遍历两遍数组，第一次找当前值x， 第二次寻找 target - x 。"
   ]
  },
  {
   "cell_type": "markdown",
   "metadata": {},
   "source": [
    "+ Hashmap解法:\n",
    "本题中，需要遍历一遍数组，假设当前值为x， 则旨在寻找 target - x 。\n",
    "通过建立哈希表，对于每一个x，在哈希表中查找target - x，然后将x插入哈希表中，这样又保证了不会与自己匹配。\n"
   ]
  }
 ],
 "metadata": {
  "kernelspec": {
   "display_name": "Python 3.9.7 ('base')",
   "language": "python",
   "name": "python3"
  },
  "language_info": {
   "codemirror_mode": {
    "name": "ipython",
    "version": 3
   },
   "file_extension": ".py",
   "mimetype": "text/x-python",
   "name": "python",
   "nbconvert_exporter": "python",
   "pygments_lexer": "ipython3",
   "version": "3.9.7"
  },
  "orig_nbformat": 4,
  "vscode": {
   "interpreter": {
    "hash": "f898b4da858d0532c6394215441fcca4318a55ee64e9f2fe54a635d60ce53085"
   }
  }
 },
 "nbformat": 4,
 "nbformat_minor": 2
}
