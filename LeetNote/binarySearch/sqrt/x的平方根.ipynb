{
 "cells": [
  {
   "cell_type": "markdown",
   "metadata": {},
   "source": [
    "## x的平方根\n",
    "给你一个非负整数 x ，计算并返回 x 的 算术平方根 。\n",
    "\n",
    "由于返回类型是整数，结果只保留 整数部分 ，小数部分将被 舍去 。\n",
    "\n",
    "注意：不允许使用任何内置指数函数和算符，例如 pow(x, 0.5) 或者 x ** 0.5 "
   ]
  }
 ],
 "metadata": {
  "kernelspec": {
   "display_name": "Python 3.9.7 ('base')",
   "language": "python",
   "name": "python3"
  },
  "language_info": {
   "name": "python",
   "version": "3.9.7"
  },
  "orig_nbformat": 4,
  "vscode": {
   "interpreter": {
    "hash": "f898b4da858d0532c6394215441fcca4318a55ee64e9f2fe54a635d60ce53085"
   }
  }
 },
 "nbformat": 4,
 "nbformat_minor": 2
}
