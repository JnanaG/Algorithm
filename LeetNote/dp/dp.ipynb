{
 "cells": [
  {
   "cell_type": "markdown",
   "metadata": {},
   "source": [
    "### 动态规划  (Dynamic Programming, DP)"
   ]
  },
  {
   "cell_type": "markdown",
   "metadata": {},
   "source": [
    "#### 解题五部曲\n",
    "- 确定dp数组（dp table）以及下标的含义\n",
    "- 确定递推公式\n",
    "- dp数组初始化\n",
    "- 确定遍历顺序\n",
    "- 举例推导dp数组"
   ]
  }
 ],
 "metadata": {
  "language_info": {
   "name": "python"
  },
  "orig_nbformat": 4
 },
 "nbformat": 4,
 "nbformat_minor": 2
}
