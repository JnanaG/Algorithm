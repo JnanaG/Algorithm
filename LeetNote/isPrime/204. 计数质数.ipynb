{
 "cells": [
  {
   "cell_type": "markdown",
   "metadata": {},
   "source": [
    "### 204. 计数质数(middle)"
   ]
  },
  {
   "cell_type": "markdown",
   "metadata": {},
   "source": [
    "给定整数 n ，返回 所有小于非负整数 n 的质数的数量 。"
   ]
  },
  {
   "cell_type": "markdown",
   "metadata": {},
   "source": [
    "### 解答"
   ]
  },
  {
   "cell_type": "markdown",
   "metadata": {},
   "source": [
    "+ 埃氏筛选法： "
   ]
  }
 ],
 "metadata": {
  "kernelspec": {
   "display_name": "Python 3.9.7 ('base')",
   "language": "python",
   "name": "python3"
  },
  "language_info": {
   "name": "python",
   "version": "3.9.7"
  },
  "orig_nbformat": 4,
  "vscode": {
   "interpreter": {
    "hash": "f898b4da858d0532c6394215441fcca4318a55ee64e9f2fe54a635d60ce53085"
   }
  }
 },
 "nbformat": 4,
 "nbformat_minor": 2
}
